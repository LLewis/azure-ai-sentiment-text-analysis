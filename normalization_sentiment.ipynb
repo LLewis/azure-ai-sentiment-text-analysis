{
 "cells": [
  {
   "cell_type": "code",
   "execution_count": null,
   "id": "initial_id",
   "metadata": {
    "collapsed": true
   },
   "outputs": [],
   "source": []
  },
  {
   "cell_type": "code",
   "outputs": [
    {
     "name": "stderr",
     "output_type": "stream",
     "text": [
      "[nltk_data] Downloading package punkt to /Users/llewis/nltk_data...\n",
      "[nltk_data]   Package punkt is already up-to-date!\n",
      "[nltk_data] Downloading package wordnet to /Users/llewis/nltk_data...\n",
      "[nltk_data]   Package wordnet is already up-to-date!\n",
      "[nltk_data] Downloading package vader_lexicon to\n",
      "[nltk_data]     /Users/llewis/nltk_data...\n",
      "[nltk_data]   Package vader_lexicon is already up-to-date!\n"
     ]
    },
    {
     "name": "stdout",
     "output_type": "stream",
     "text": [
      "compound score:  0.6808\n",
      "Sentiment Scores:\n",
      "neg: 0.00\n",
      "neu: 0.15\n",
      "pos: 0.85\n",
      "compound: 0.68\n",
      "Text: I'm feeling great\n",
      "Sentiment: positive\n",
      "Sentiment Scores: {'neg': 0.0, 'neu': 0.152, 'pos': 0.848, 'compound': 0.6808}\n"
     ]
    }
   ],
   "source": [
    "import nltk\n",
    "from nltk.corpus import stopwords\n",
    "from nltk.tokenize import word_tokenize\n",
    "from nltk.stem import WordNetLemmatizer\n",
    "from nltk.sentiment.vader import SentimentIntensityAnalyzer\n",
    "import string\n",
    "\n",
    "# Ensure that the necessary NLTK data packages are downloaded\n",
    "nltk.download('punkt')\n",
    "nltk.download('wordnet')\n",
    "nltk.download('vader_lexicon')\n",
    "\n",
    "# Text normalization function\n",
    "def normalize_text(text):\n",
    "    # Convert to lowercase\n",
    "    text = text.lower()\n",
    "    # Remove punctuation\n",
    "    text = text.translate(str.maketrans('', '', string.punctuation))\n",
    "    # Tokenize the text\n",
    "    tokens = word_tokenize(text)\n",
    "    # Lemmatize the tokens\n",
    "    lemmatizer = WordNetLemmatizer()\n",
    "    lemmatized_tokens = [lemmatizer.lemmatize(token) for token in tokens]\n",
    "    # Join tokens back into a single string\n",
    "    normalized_text = ' '.join(lemmatized_tokens)\n",
    "    return normalized_text\n",
    "\n",
    "# Sentiment analysis function\n",
    "def analyze_sentiment(text):\n",
    "    # Normalize the text\n",
    "    normalized_text = normalize_text(text)\n",
    "    # Initialize VADER sentiment intensity analyzer\n",
    "    sid = SentimentIntensityAnalyzer()\n",
    "    # Get the sentiment scores\n",
    "    sentiment_scores = sid.polarity_scores(normalized_text)\n",
    "    # Determine the sentiment\n",
    "    compound_score = sentiment_scores['compound']\n",
    "    print(\"compound score: \", compound_score)  # Lewis \n",
    "    if compound_score >= 0.05:\n",
    "        sentiment = 'positive'\n",
    "    elif compound_score <= -0.05:\n",
    "        sentiment = 'negative'\n",
    "    else:\n",
    "        sentiment = 'neutral'\n",
    "\n",
    "\n",
    "    # Print the sentiment scores dictionary  - Lewis\n",
    "    print(\"Sentiment Scores:\")\n",
    "    for key, value in sentiment_scores.items():\n",
    "        print(f\"{key}: {value:.2f}\")\n",
    "    return sentiment, sentiment_scores\n",
    "\n",
    "# Example usage\n",
    "text = input(\"Enter review: \")\n",
    "# text = \"Microsoft was founded by Bill Gates and Paul Allen on April 4, 1975.\"\n",
    "sentiment, scores = analyze_sentiment(text)\n",
    "print(f\"Text: {text}\")\n",
    "print(f\"Sentiment: {sentiment}\")\n",
    "print(f\"Sentiment Scores: {scores}\")\n"
   ],
   "metadata": {
    "collapsed": false,
    "ExecuteTime": {
     "end_time": "2024-07-29T15:17:54.000124Z",
     "start_time": "2024-07-29T15:17:47.674979Z"
    }
   },
   "id": "a1a9ae71232f333d",
   "execution_count": 12
  },
  {
   "cell_type": "code",
   "outputs": [],
   "source": [],
   "metadata": {
    "collapsed": false
   },
   "id": "c8a5fc968f9b5b06"
  }
 ],
 "metadata": {
  "kernelspec": {
   "display_name": "Python 3",
   "language": "python",
   "name": "python3"
  },
  "language_info": {
   "codemirror_mode": {
    "name": "ipython",
    "version": 2
   },
   "file_extension": ".py",
   "mimetype": "text/x-python",
   "name": "python",
   "nbconvert_exporter": "python",
   "pygments_lexer": "ipython2",
   "version": "2.7.6"
  }
 },
 "nbformat": 4,
 "nbformat_minor": 5
}
