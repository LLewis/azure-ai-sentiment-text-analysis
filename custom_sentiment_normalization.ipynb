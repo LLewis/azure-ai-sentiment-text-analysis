{
 "cells": [
  {
   "cell_type": "code",
   "id": "initial_id",
   "metadata": {
    "collapsed": true,
    "ExecuteTime": {
     "end_time": "2025-06-08T20:32:10.773285Z",
     "start_time": "2025-06-08T20:16:29.661730Z"
    }
   },
   "source": [
    "import nltk\n",
    "from nltk.tokenize import word_tokenize\n",
    "from nltk.stem import WordNetLemmatizer\n",
    "import string\n",
    "\n",
    "# Ensure that the necessary NLTK data packages are downloaded\n",
    "nltk.download('punkt')\n",
    "nltk.download('wordnet')\n",
    "\n",
    "# Sample lexicon with sentiment scores\n",
    "# Positive words have positive scores, negative words have negative scores\n",
    "lexicon = {\n",
    "    'good': 2.0,\n",
    "    'bad': -2.0,\n",
    "    'happy': 3.0,\n",
    "    'sad': -3.0,\n",
    "    'great': 3.0,\n",
    "    'terrible': -3.0,\n",
    "    'excellent': 4.0,\n",
    "    'poor': -2.0,\n",
    "    'love': 3.0,\n",
    "    'hate': -3.0,\n",
    "    'dope': 4.0\n",
    "}\n",
    "\n",
    "# Text normalization function\n",
    "def normalize_text(text):\n",
    "    # Convert to lowercase\n",
    "    text = text.lower()\n",
    "    # Remove punctuation\n",
    "    text = text.translate(str.maketrans('', '', string.punctuation))\n",
    "    # Tokenize the text\n",
    "    tokens = word_tokenize(text)\n",
    "    # Lemmatize the tokens\n",
    "    lemmatizer = WordNetLemmatizer()\n",
    "    lemmatized_tokens = [lemmatizer.lemmatize(token) for token in tokens]\n",
    "    return lemmatized_tokens\n",
    "\n",
    "# Custom sentiment scoring function\n",
    "def custom_sentiment_score(text):\n",
    "    # Normalize and tokenize the text\n",
    "    tokens = normalize_text(text)\n",
    "    # Initialize score variables\n",
    "    positive_score = 0\n",
    "    negative_score = 0\n",
    "\n",
    "    # Calculate the sentiment scores\n",
    "    for token in tokens:\n",
    "        if token in lexicon:\n",
    "            score = lexicon[token]\n",
    "            if score > 0:\n",
    "                positive_score += score\n",
    "            elif score < 0:\n",
    "                negative_score += score\n",
    "\n",
    "    # Aggregate scores\n",
    "    total_score = positive_score + negative_score\n",
    "    sentiment = 'neutral'\n",
    "    if total_score > 0:\n",
    "        sentiment = 'positive'\n",
    "    elif total_score < 0:\n",
    "        sentiment = 'negative'\n",
    "\n",
    "    # Return detailed scores and overall sentiment\n",
    "    return {\n",
    "        'positive': positive_score,\n",
    "        'negative': negative_score,\n",
    "        'total': total_score,\n",
    "        'sentiment': sentiment\n",
    "    }\n",
    "\n",
    "# Example usage\n",
    "# text = \"Microsoft was founded by Bill Gates and Paul Allen. It is a great company with excellent products.\"\n",
    "text = input('Enter review')\n",
    "scores = custom_sentiment_score(text)\n",
    "print(f\"Text: {text}\")\n",
    "print(f\"Sentiment: {scores['sentiment']}\")\n",
    "print(f\"Scores: Positive = {scores['positive']}, Negative = {scores['negative']}, Total = {scores['total']}\")\n"
   ],
   "outputs": [
    {
     "name": "stderr",
     "output_type": "stream",
     "text": [
      "[nltk_data] Downloading package punkt to /Users/llewis/nltk_data...\n",
      "[nltk_data]   Package punkt is already up-to-date!\n",
      "[nltk_data] Downloading package wordnet to /Users/llewis/nltk_data...\n",
      "[nltk_data]   Package wordnet is already up-to-date!\n"
     ]
    },
    {
     "name": "stdout",
     "output_type": "stream",
     "text": [
      "Text: The candy was horrible in taste.\n",
      "Sentiment: neutral\n",
      "Scores: Positive = 0, Negative = 0, Total = 0\n"
     ]
    }
   ],
   "execution_count": 1
  },
  {
   "cell_type": "code",
   "outputs": [],
   "source": [],
   "metadata": {
    "collapsed": false
   },
   "id": "eb8dad5bfac77038",
   "execution_count": null
  }
 ],
 "metadata": {
  "kernelspec": {
   "display_name": "Python 3",
   "language": "python",
   "name": "python3"
  },
  "language_info": {
   "codemirror_mode": {
    "name": "ipython",
    "version": 2
   },
   "file_extension": ".py",
   "mimetype": "text/x-python",
   "name": "python",
   "nbconvert_exporter": "python",
   "pygments_lexer": "ipython2",
   "version": "2.7.6"
  }
 },
 "nbformat": 4,
 "nbformat_minor": 5
}
